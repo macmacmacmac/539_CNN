{
 "cells": [
  {
   "cell_type": "code",
   "execution_count": 1,
   "id": "a37bd7e0",
   "metadata": {},
   "outputs": [],
   "source": [
    "import pandas as pd\n",
    "from sklearn.metrics import confusion_matrix\n",
    "\n",
    "import tensorflow as tf\n",
    "import tensorflow_datasets as tfds\n",
    "import keras"
   ]
  },
  {
   "cell_type": "markdown",
   "id": "9588f6ab",
   "metadata": {},
   "source": [
    "### Start with loading the dataset"
   ]
  },
  {
   "cell_type": "code",
   "execution_count": 38,
   "id": "c2a59d05",
   "metadata": {},
   "outputs": [
    {
     "name": "stdout",
     "output_type": "stream",
     "text": [
      "Found 999 files belonging to 10 classes.\n",
      "Using 800 files for training.\n",
      "Found 999 files belonging to 10 classes.\n",
      "Using 199 files for validation.\n"
     ]
    }
   ],
   "source": [
    "batch_size = 10\n",
    "img_height = 369\n",
    "img_width = 496\n",
    "\n",
    "#images original being a directory of the dataset, each subdirectory of images_original is a class folder\n",
    "#each class folder contains samples belonging to that class\n",
    "data_dir = './images_original'\n",
    "\n",
    "#since spectrograms contain no meaningful RGB information grayscaling doesnt have any information loss\n",
    "train = tf.keras.utils.image_dataset_from_directory(\n",
    "  data_dir,\n",
    "  validation_split=0.2,\n",
    "  subset=\"training\",\n",
    "  seed=123,\n",
    "  image_size=(img_height, img_width),\n",
    "  batch_size=batch_size,\n",
    "  color_mode = 'grayscale',\n",
    "  label_mode = 'categorical')\n",
    "\n",
    "val = tf.keras.utils.image_dataset_from_directory(\n",
    "  data_dir,\n",
    "  validation_split=0.2,\n",
    "  subset=\"validation\",\n",
    "  seed=123,\n",
    "  image_size=(img_height, img_width),\n",
    "  batch_size=batch_size,\n",
    "  color_mode = 'grayscale',\n",
    "  label_mode = 'categorical')\n"
   ]
  },
  {
   "cell_type": "markdown",
   "id": "ee5d1c6b",
   "metadata": {},
   "source": [
    "### Defining the model architecture"
   ]
  },
  {
   "cell_type": "code",
   "execution_count": 39,
   "id": "6ff6e23c",
   "metadata": {},
   "outputs": [],
   "source": [
    "num_classes = 10\n",
    "\n",
    "model = tf.keras.Sequential([\n",
    "  tf.keras.layers.Rescaling(1./255),\n",
    "  tf.keras.layers.Conv2D(32, 3, activation='relu'),\n",
    "  tf.keras.layers.MaxPooling2D(),\n",
    "  tf.keras.layers.Conv2D(64, 3, activation='relu'),\n",
    "  tf.keras.layers.MaxPooling2D(),\n",
    "  tf.keras.layers.Conv2D(64, 3, activation='relu'),\n",
    "  tf.keras.layers.MaxPooling2D(),\n",
    "  tf.keras.layers.Flatten(),\n",
    "  tf.keras.layers.Dense(128, activation='relu'),\n",
    "  tf.keras.layers.Dropout(0.2),\n",
    "  tf.keras.layers.Dense(num_classes, activation = 'softmax')\n",
    "])"
   ]
  },
  {
   "cell_type": "code",
   "execution_count": 15,
   "id": "5a29fe85",
   "metadata": {},
   "outputs": [],
   "source": [
    "model.compile(\n",
    "  optimizer='adam',\n",
    "  loss=tf.keras.losses.CategoricalCrossentropy(\n",
    "    from_logits=False,\n",
    "    label_smoothing=0.0,\n",
    "    axis=-1,\n",
    "    reduction=losses_utils.ReductionV2.AUTO,\n",
    "    name='categorical_crossentropy'\n",
    "),\n",
    "  metrics=['accuracy'])"
   ]
  },
  {
   "cell_type": "code",
   "execution_count": 16,
   "id": "7504738e",
   "metadata": {
    "scrolled": true
   },
   "outputs": [
    {
     "name": "stdout",
     "output_type": "stream",
     "text": [
      "Epoch 1/10\n",
      "80/80 [==============================] - ETA: 0s - loss: 2.5697 - accuracy: 0.1637\n",
      "Epoch 1: saving model to training_1\\cp.ckpt\n",
      "80/80 [==============================] - 74s 925ms/step - loss: 2.5697 - accuracy: 0.1637 - val_loss: 2.0535 - val_accuracy: 0.2764\n",
      "Epoch 2/10\n",
      "80/80 [==============================] - ETA: 0s - loss: 1.8209 - accuracy: 0.3638\n",
      "Epoch 2: saving model to training_1\\cp.ckpt\n",
      "80/80 [==============================] - 76s 944ms/step - loss: 1.8209 - accuracy: 0.3638 - val_loss: 1.7164 - val_accuracy: 0.3518\n",
      "Epoch 3/10\n",
      "80/80 [==============================] - ETA: 0s - loss: 1.3594 - accuracy: 0.5575\n",
      "Epoch 3: saving model to training_1\\cp.ckpt\n",
      "80/80 [==============================] - 68s 853ms/step - loss: 1.3594 - accuracy: 0.5575 - val_loss: 1.5552 - val_accuracy: 0.4523\n",
      "Epoch 4/10\n",
      "80/80 [==============================] - ETA: 0s - loss: 0.8155 - accuracy: 0.7350\n",
      "Epoch 4: saving model to training_1\\cp.ckpt\n",
      "80/80 [==============================] - 68s 849ms/step - loss: 0.8155 - accuracy: 0.7350 - val_loss: 1.4563 - val_accuracy: 0.5075\n",
      "Epoch 5/10\n",
      "80/80 [==============================] - ETA: 0s - loss: 0.3761 - accuracy: 0.8775\n",
      "Epoch 5: saving model to training_1\\cp.ckpt\n",
      "80/80 [==============================] - 68s 846ms/step - loss: 0.3761 - accuracy: 0.8775 - val_loss: 1.4881 - val_accuracy: 0.5276\n",
      "Epoch 6/10\n",
      "80/80 [==============================] - ETA: 0s - loss: 0.0638 - accuracy: 0.9900\n",
      "Epoch 6: saving model to training_1\\cp.ckpt\n",
      "80/80 [==============================] - 68s 844ms/step - loss: 0.0638 - accuracy: 0.9900 - val_loss: 1.6404 - val_accuracy: 0.5427\n",
      "Epoch 7/10\n",
      "80/80 [==============================] - ETA: 0s - loss: 0.0234 - accuracy: 0.9962\n",
      "Epoch 7: saving model to training_1\\cp.ckpt\n",
      "80/80 [==============================] - 68s 849ms/step - loss: 0.0234 - accuracy: 0.9962 - val_loss: 1.7733 - val_accuracy: 0.5427\n",
      "Epoch 8/10\n",
      "80/80 [==============================] - ETA: 0s - loss: 0.0241 - accuracy: 0.9937\n",
      "Epoch 8: saving model to training_1\\cp.ckpt\n",
      "80/80 [==============================] - 68s 854ms/step - loss: 0.0241 - accuracy: 0.9937 - val_loss: 2.0885 - val_accuracy: 0.5176\n",
      "Epoch 9/10\n",
      "80/80 [==============================] - ETA: 0s - loss: 0.0216 - accuracy: 0.9937\n",
      "Epoch 9: saving model to training_1\\cp.ckpt\n",
      "80/80 [==============================] - 73s 918ms/step - loss: 0.0216 - accuracy: 0.9937 - val_loss: 1.7639 - val_accuracy: 0.5377\n",
      "Epoch 10/10\n",
      "80/80 [==============================] - ETA: 0s - loss: 0.0059 - accuracy: 1.0000\n",
      "Epoch 10: saving model to training_1\\cp.ckpt\n",
      "80/80 [==============================] - 68s 852ms/step - loss: 0.0059 - accuracy: 1.0000 - val_loss: 1.8390 - val_accuracy: 0.5578\n",
      "Model: \"sequential_1\"\n",
      "_________________________________________________________________\n",
      " Layer (type)                Output Shape              Param #   \n",
      "=================================================================\n",
      " rescaling_1 (Rescaling)     (None, 369, 496, 1)       0         \n",
      "                                                                 \n",
      " conv2d_3 (Conv2D)           (None, 367, 494, 32)      320       \n",
      "                                                                 \n",
      " max_pooling2d_3 (MaxPooling  (None, 183, 247, 32)     0         \n",
      " 2D)                                                             \n",
      "                                                                 \n",
      " conv2d_4 (Conv2D)           (None, 181, 245, 32)      9248      \n",
      "                                                                 \n",
      " max_pooling2d_4 (MaxPooling  (None, 90, 122, 32)      0         \n",
      " 2D)                                                             \n",
      "                                                                 \n",
      " conv2d_5 (Conv2D)           (None, 88, 120, 64)       18496     \n",
      "                                                                 \n",
      " max_pooling2d_5 (MaxPooling  (None, 44, 60, 64)       0         \n",
      " 2D)                                                             \n",
      "                                                                 \n",
      " flatten_1 (Flatten)         (None, 168960)            0         \n",
      "                                                                 \n",
      " dense_2 (Dense)             (None, 128)               21627008  \n",
      "                                                                 \n",
      " dense_3 (Dense)             (None, 10)                1290      \n",
      "                                                                 \n",
      "=================================================================\n",
      "Total params: 21,656,362\n",
      "Trainable params: 21,656,362\n",
      "Non-trainable params: 0\n",
      "_________________________________________________________________\n"
     ]
    }
   ],
   "source": [
    "import os\n",
    "\n",
    "EPOCHS = 10\n",
    "\n",
    "checkpoint_path = \"training_1/cp.ckpt\"\n",
    "checkpoint_dir = os.path.dirname(checkpoint_path)\n",
    "\n",
    "# Create a callback that saves the model's weights\n",
    "cp_callback = tf.keras.callbacks.ModelCheckpoint(filepath=checkpoint_path,\n",
    "                                                 save_weights_only=True,\n",
    "                                                 verbose=1)\n",
    "\n",
    "fitted = model.fit(\n",
    "  train,\n",
    "  validation_data = val,\n",
    "  epochs=EPOCHS,\n",
    "  callbacks=[cp_callback]\n",
    ")\n",
    "model.summary()"
   ]
  },
  {
   "cell_type": "code",
   "execution_count": 19,
   "id": "0bc57ac5",
   "metadata": {},
   "outputs": [
    {
     "name": "stdout",
     "output_type": "stream",
     "text": [
      "You must install pydot (`pip install pydot`) and install graphviz (see instructions at https://graphviz.gitlab.io/download/) for plot_model/model_to_dot to work.\n"
     ]
    }
   ],
   "source": [
    "#visualize architecture\n",
    "keras.utils.plot_model(model, \"cnn_from_scratch.png\")"
   ]
  },
  {
   "cell_type": "code",
   "execution_count": 20,
   "id": "9ae7bf0a",
   "metadata": {},
   "outputs": [
    {
     "data": {
      "text/plain": [
       "<matplotlib.legend.Legend at 0x219bd5290a0>"
      ]
     },
     "execution_count": 20,
     "metadata": {},
     "output_type": "execute_result"
    },
    {
     "data": {
      "image/png": "[encoded data removed]",
      "text/plain": [
       "<Figure size 432x288 with 1 Axes>"
      ]
     },
     "metadata": {
      "needs_background": "light"
     },
     "output_type": "display_data"
    }
   ],
   "source": [
    "import matplotlib.pyplot as plt\n",
    "import numpy as np\n",
    "\n",
    "history = fitted \n",
    "#change the earlier line that says model.fit(blah blah blah) to fitted = model.fit(blah blah blah)\n",
    "\n",
    "epoch_list = list(range(1,len(history.history['accuracy'])+1))\n",
    "plt.plot(epoch_list, history.history['accuracy'], label='Train Accuracy')\n",
    "plt.plot(epoch_list, history.history['val_accuracy'], label='Validation Accuracy')\n",
    "plt.ylabel('Accuracy Value')\n",
    "plt.xlabel('Epoch')\n",
    "plt.title('Accuracy')\n",
    "plt.legend(loc=\"lower right\")"
   ]
  },
  {
   "cell_type": "code",
   "execution_count": 21,
   "id": "df1365bf",
   "metadata": {},
   "outputs": [
    {
     "name": "stdout",
     "output_type": "stream",
     "text": [
      "20/20 [==============================] - 4s 176ms/step - loss: 1.8390 - accuracy: 0.5578\n"
     ]
    }
   ],
   "source": [
    "results = model.evaluate(val, batch_size=128)"
   ]
  },
  {
   "cell_type": "markdown",
   "id": "b7daa855",
   "metadata": {},
   "source": [
    "### Transfer Learning---using VGGish"
   ]
  },
  {
   "cell_type": "code",
   "execution_count": 48,
   "id": "caf498c4",
   "metadata": {},
   "outputs": [],
   "source": [
    "from vggish import VGGish\n",
    "\n",
    "import vggish_params as params\n",
    "\n",
    "WEIGHTS_PATH = \"vggish_audioset_weights_without_fc2.h5\"\n",
    "#you will have to download the pretrained model manually\n",
    "#it was too big for the github\n",
    "EPOCHS = 20\n",
    "\n",
    "base_model = VGGish(include_top=False)\n",
    "\n",
    "base_model.trainable = False\n",
    "\n",
    "last_layer = base_model.output\n",
    "x = tf.keras.layers.Flatten()(last_layer)\n",
    "x = tf.keras.layers.Dense(units = 256, activation = 'relu')(x)\n",
    "x = tf.keras.layers.Dense(units = 256, activation = 'relu')(x)\n",
    "x = tf.keras.layers.Dense(units = 128, activation = 'relu')(x)\n",
    "x = tf.keras.layers.Dense(units = 10, activation = 'softmax')(x)\n",
    "\n",
    "pre_trained_model = tf.keras.Model(inputs = base_model.inputs, outputs = x)\n",
    "\n",
    "pre_trained_model.compile(optimizer='adam',\n",
    "                          loss=tf.keras.losses.CategoricalCrossentropy(from_logits=False),\n",
    "                          metrics=['accuracy'])"
   ]
  },
  {
   "cell_type": "code",
   "execution_count": null,
   "id": "b78b1d33",
   "metadata": {},
   "outputs": [
    {
     "name": "stdout",
     "output_type": "stream",
     "text": [
      "Epoch 1/160\n",
      "80/80 [==============================] - ETA: 0s - loss: 2.3505 - accuracy: 0.1187\n",
      "Epoch 1: saving model to training_2\\cp.ckpt\n",
      "80/80 [==============================] - 144s 2s/step - loss: 2.3505 - accuracy: 0.1187 - val_loss: 2.3153 - val_accuracy: 0.1407\n",
      "Epoch 2/160\n",
      "80/80 [==============================] - ETA: 0s - loss: 2.2445 - accuracy: 0.1813\n",
      "Epoch 2: saving model to training_2\\cp.ckpt\n",
      "80/80 [==============================] - 146s 2s/step - loss: 2.2445 - accuracy: 0.1813 - val_loss: 2.1885 - val_accuracy: 0.1809\n",
      "Epoch 3/160\n",
      "80/80 [==============================] - ETA: 0s - loss: 2.0515 - accuracy: 0.2962"
     ]
    }
   ],
   "source": [
    "EPOCHS = 160\n",
    "\n",
    "checkpoint_path = \"training_2/cp.ckpt\"\n",
    "checkpoint_dir = os.path.dirname(checkpoint_path)\n",
    "\n",
    "# Create a callback that saves the model's weights\n",
    "cp_callback2 = tf.keras.callbacks.ModelCheckpoint(filepath=checkpoint_path,\n",
    "                                                 save_weights_only=True,\n",
    "                                                 verbose=1)\n",
    "\n",
    "fitted_pre_trained = pre_trained_model.fit(train, \n",
    "                                           validation_data = val, \n",
    "                                           epochs = EPOCHS,\n",
    "                                           callbacks=[cp_callback2])"
   ]
  },
  {
   "cell_type": "code",
   "execution_count": 34,
   "id": "2d07756b",
   "metadata": {
    "scrolled": true
   },
   "outputs": [
    {
     "data": {
      "text/plain": [
       "<matplotlib.legend.Legend at 0x219d7b91850>"
      ]
     },
     "execution_count": 34,
     "metadata": {},
     "output_type": "execute_result"
    },
    {
     "data": {
      "image/png": "[encoded data removed]",
      "text/plain": [
       "<Figure size 432x288 with 1 Axes>"
      ]
     },
     "metadata": {
      "needs_background": "light"
     },
     "output_type": "display_data"
    }
   ],
   "source": [
    "history = fitted_pre_trained \n",
    "#change the earlier line that says model.fit(blah blah blah) to fitted = model.fit(blah blah blah)\n",
    "\n",
    "epoch_list = list(range(1,len(history.history['accuracy'])+1))\n",
    "plt.plot(epoch_list, history.history['accuracy'], label='Train Accuracy')\n",
    "plt.plot(epoch_list, history.history['val_accuracy'], label='Validation Accuracy')\n",
    "plt.ylabel('Accuracy Value')\n",
    "plt.xlabel('Epoch')\n",
    "plt.title('Accuracy')\n",
    "plt.legend(loc=\"lower right\")"
   ]
  },
  {
   "cell_type": "code",
   "execution_count": null,
   "id": "fc8dbd2f",
   "metadata": {},
   "outputs": [],
   "source": [
    "sunflower_path = tf.keras.utils.get_file('Red_sunflower', origin=sunflower_url)\n",
    "\n",
    "img = tf.keras.utils.load_img(\n",
    "    sunflower_path, target_size=(img_height, img_width)\n",
    ")\n",
    "img_array = tf.keras.utils.img_to_array(img)\n",
    "img_array = tf.expand_dims(img_array, 0) # Create a batch\n",
    "\n",
    "predictions = model.predict(img_array)\n",
    "score = tf.nn.softmax(predictions[0])\n",
    "\n",
    "print(\n",
    "    \"This image most likely belongs to {} with a {:.2f} percent confidence.\"\n",
    "    .format(class_names[np.argmax(score)], 100 * np.max(score))\n",
    ")"
   ]
  },
  {
   "cell_type": "code",
   "execution_count": null,
   "id": "104d9b26",
   "metadata": {},
   "outputs": [],
   "source": [
    "keras.utils.plot_model(pre_trained_model, \"pre_trained.png\")"
   ]
  },
  {
   "cell_type": "code",
   "execution_count": 25,
   "id": "2cdbfa3e",
   "metadata": {},
   "outputs": [
    {
     "data": {
      "text/plain": [
       "[<keras.engine.input_layer.InputLayer at 0x219d65f1520>,\n",
       " <keras.layers.convolutional.conv2d.Conv2D at 0x219d65f1670>,\n",
       " <keras.layers.pooling.max_pooling2d.MaxPooling2D at 0x219bd883ac0>,\n",
       " <keras.layers.convolutional.conv2d.Conv2D at 0x219d65f1760>,\n",
       " <keras.layers.pooling.max_pooling2d.MaxPooling2D at 0x219bd9e5580>,\n",
       " <keras.layers.convolutional.conv2d.Conv2D at 0x219bd875c10>,\n",
       " <keras.layers.convolutional.conv2d.Conv2D at 0x219bd875e80>,\n",
       " <keras.layers.pooling.max_pooling2d.MaxPooling2D at 0x219d65f7220>,\n",
       " <keras.layers.convolutional.conv2d.Conv2D at 0x219d65f5280>,\n",
       " <keras.layers.convolutional.conv2d.Conv2D at 0x219d65fb280>,\n",
       " <keras.layers.pooling.max_pooling2d.MaxPooling2D at 0x219d65fbd00>,\n",
       " <keras.layers.pooling.global_average_pooling2d.GlobalAveragePooling2D at 0x219d65fbac0>,\n",
       " <keras.layers.reshaping.flatten.Flatten at 0x219d65f1610>,\n",
       " <keras.layers.core.dense.Dense at 0x219bd883370>,\n",
       " <keras.layers.core.dense.Dense at 0x219bd883fa0>]"
      ]
     },
     "execution_count": 25,
     "metadata": {},
     "output_type": "execute_result"
    }
   ],
   "source": [
    "pre_trained_model.layers"
   ]
  },
  {
   "cell_type": "code",
   "execution_count": 9,
   "id": "5b349f20",
   "metadata": {},
   "outputs": [
    {
     "name": "stdout",
     "output_type": "stream",
     "text": [
      "weights: 0\n",
      "trainable_weights: 0\n",
      "non_trainable_weights: 0\n",
      "weights: 2\n",
      "trainable_weights: 0\n",
      "non_trainable_weights: 2\n",
      "weights: 0\n",
      "trainable_weights: 0\n",
      "non_trainable_weights: 0\n",
      "weights: 2\n",
      "trainable_weights: 0\n",
      "non_trainable_weights: 2\n",
      "weights: 0\n",
      "trainable_weights: 0\n",
      "non_trainable_weights: 0\n",
      "weights: 2\n",
      "trainable_weights: 0\n",
      "non_trainable_weights: 2\n",
      "weights: 2\n",
      "trainable_weights: 0\n",
      "non_trainable_weights: 2\n",
      "weights: 0\n",
      "trainable_weights: 0\n",
      "non_trainable_weights: 0\n",
      "weights: 2\n",
      "trainable_weights: 0\n",
      "non_trainable_weights: 2\n",
      "weights: 2\n",
      "trainable_weights: 0\n",
      "non_trainable_weights: 2\n",
      "weights: 0\n",
      "trainable_weights: 0\n",
      "non_trainable_weights: 0\n",
      "weights: 0\n",
      "trainable_weights: 0\n",
      "non_trainable_weights: 0\n",
      "weights: 0\n",
      "trainable_weights: 0\n",
      "non_trainable_weights: 0\n",
      "weights: 2\n",
      "trainable_weights: 2\n",
      "non_trainable_weights: 0\n"
     ]
    }
   ],
   "source": [
    "for layer in pre_trained_model.layers:\n",
    "    print(\"weights:\", len(layer.weights))\n",
    "    print(\"trainable_weights:\", len(layer.trainable_weights))\n",
    "    print(\"non_trainable_weights:\", len(layer.non_trainable_weights))"
   ]
  }
 ],
 "metadata": {
  "kernelspec": {
   "display_name": "Python 3 (ipykernel)",
   "language": "python",
   "name": "python3"
  },
  "language_info": {
   "codemirror_mode": {
    "name": "ipython",
    "version": 3
   },
   "file_extension": ".py",
   "mimetype": "text/x-python",
   "name": "python",
   "nbconvert_exporter": "python",
   "pygments_lexer": "ipython3",
   "version": "3.9.12"
  }
 },
 "nbformat": 4,
 "nbformat_minor": 5
}
