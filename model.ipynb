{
 "cells": [
  {
   "cell_type": "code",
   "execution_count": 2,
   "id": "22c224c4",
   "metadata": {},
   "outputs": [],
   "source": [
    "import pandas as pd\n",
    "from sklearn.metrics import confusion_matrix\n",
    "\n",
    "import tensorflow as tf\n",
    "import tensorflow_datasets as tfds\n",
    "import keras\n",
    "#import tf.keras.utils.image_dataset_from_directory"
   ]
  },
  {
   "cell_type": "code",
   "execution_count": 27,
   "id": "781c36cd",
   "metadata": {},
   "outputs": [
    {
     "name": "stdout",
     "output_type": "stream",
     "text": [
      "Found 999 files belonging to 10 classes.\n",
      "Using 800 files for training.\n",
      "Found 999 files belonging to 10 classes.\n",
      "Using 199 files for validation.\n"
     ]
    }
   ],
   "source": [
    "batch_size = 10\n",
    "img_height = 369\n",
    "img_width = 496\n",
    "\n",
    "\n",
    "data_dir = './images_original'\n",
    "\n",
    "train = tf.keras.utils.image_dataset_from_directory(\n",
    "  data_dir,\n",
    "  validation_split=0.2,\n",
    "  subset=\"training\",\n",
    "  seed=123,\n",
    "  image_size=(img_height, img_width),\n",
    "  batch_size=batch_size)\n",
    "\n",
    "val = tf.keras.utils.image_dataset_from_directory(\n",
    "  data_dir,\n",
    "  validation_split=0.2,\n",
    "  subset=\"validation\",\n",
    "  seed=123,\n",
    "  image_size=(img_height, img_width),\n",
    "  batch_size=batch_size)"
   ]
  },
  {
   "cell_type": "code",
   "execution_count": 28,
   "id": "7c493269",
   "metadata": {},
   "outputs": [],
   "source": [
    "num_classes = 10\n",
    "\n",
    "model = tf.keras.Sequential([\n",
    "  tf.keras.layers.Rescaling(1./255),\n",
    "  tf.keras.layers.Conv2D(3, 1, activation='relu'),\n",
    "  tf.keras.layers.MaxPooling2D(),\n",
    "  tf.keras.layers.Conv2D(3, 1, activation='relu'),\n",
    "  tf.keras.layers.MaxPooling2D(),\n",
    "  tf.keras.layers.Conv2D(3, 1, activation='relu'),\n",
    "  tf.keras.layers.MaxPooling2D(),\n",
    "  tf.keras.layers.Flatten(),\n",
    "  tf.keras.layers.Dense(128, activation='relu'),\n",
    "  tf.keras.layers.Dense(num_classes)\n",
    "])"
   ]
  },
  {
   "cell_type": "code",
   "execution_count": 29,
   "id": "47f7d3df",
   "metadata": {},
   "outputs": [],
   "source": [
    "model.compile(\n",
    "  optimizer='adam',\n",
    "  loss=tf.keras.losses.SparseCategoricalCrossentropy(from_logits=True),\n",
    "  metrics=['accuracy'])"
   ]
  },
  {
   "cell_type": "code",
   "execution_count": 33,
   "id": "9ce8ea4f",
   "metadata": {
    "scrolled": true
   },
   "outputs": [
    {
     "name": "stdout",
     "output_type": "stream",
     "text": [
      "Epoch 1/20\n",
      "80/80 [==============================] - 11s 139ms/step - loss: 1.5282 - accuracy: 0.4563\n",
      "Epoch 2/20\n",
      "80/80 [==============================] - 10s 128ms/step - loss: 1.5056 - accuracy: 0.4638\n",
      "Epoch 3/20\n",
      "80/80 [==============================] - 11s 132ms/step - loss: 1.4799 - accuracy: 0.4787\n",
      "Epoch 4/20\n",
      "80/80 [==============================] - 10s 126ms/step - loss: 1.4865 - accuracy: 0.4563\n",
      "Epoch 5/20\n",
      "80/80 [==============================] - 11s 132ms/step - loss: 1.4086 - accuracy: 0.4925\n",
      "Epoch 6/20\n",
      "80/80 [==============================] - 11s 132ms/step - loss: 1.3753 - accuracy: 0.5150\n",
      "Epoch 7/20\n",
      "80/80 [==============================] - 10s 127ms/step - loss: 1.3610 - accuracy: 0.5138\n",
      "Epoch 8/20\n",
      "80/80 [==============================] - 9s 116ms/step - loss: 1.2781 - accuracy: 0.5612\n",
      "Epoch 9/20\n",
      "80/80 [==============================] - 10s 120ms/step - loss: 1.3666 - accuracy: 0.4975\n",
      "Epoch 10/20\n",
      "80/80 [==============================] - 9s 115ms/step - loss: 1.3185 - accuracy: 0.5250\n",
      "Epoch 11/20\n",
      "80/80 [==============================] - 10s 120ms/step - loss: 1.2639 - accuracy: 0.5375\n",
      "Epoch 12/20\n",
      "80/80 [==============================] - 10s 121ms/step - loss: 1.2268 - accuracy: 0.5537\n",
      "Epoch 13/20\n",
      "80/80 [==============================] - 10s 122ms/step - loss: 1.2711 - accuracy: 0.5537\n",
      "Epoch 14/20\n",
      "80/80 [==============================] - 10s 129ms/step - loss: 1.1783 - accuracy: 0.5788\n",
      "Epoch 15/20\n",
      "80/80 [==============================] - 9s 117ms/step - loss: 1.1182 - accuracy: 0.5987\n",
      "Epoch 16/20\n",
      "80/80 [==============================] - 10s 120ms/step - loss: 1.1905 - accuracy: 0.5612\n",
      "Epoch 17/20\n",
      "80/80 [==============================] - 10s 118ms/step - loss: 1.0915 - accuracy: 0.6025\n",
      "Epoch 18/20\n",
      "80/80 [==============================] - 10s 122ms/step - loss: 1.1069 - accuracy: 0.5962\n",
      "Epoch 19/20\n",
      "80/80 [==============================] - 10s 122ms/step - loss: 1.1764 - accuracy: 0.5663\n",
      "Epoch 20/20\n",
      "80/80 [==============================] - 10s 129ms/step - loss: 1.0223 - accuracy: 0.6438\n",
      "Model: \"sequential_4\"\n",
      "_________________________________________________________________\n",
      " Layer (type)                Output Shape              Param #   \n",
      "=================================================================\n",
      " rescaling_4 (Rescaling)     (None, 369, 496, 3)       0         \n",
      "                                                                 \n",
      " conv2d_12 (Conv2D)          (None, 369, 496, 3)       12        \n",
      "                                                                 \n",
      " max_pooling2d_12 (MaxPoolin  (None, 184, 248, 3)      0         \n",
      " g2D)                                                            \n",
      "                                                                 \n",
      " conv2d_13 (Conv2D)          (None, 184, 248, 3)       12        \n",
      "                                                                 \n",
      " max_pooling2d_13 (MaxPoolin  (None, 92, 124, 3)       0         \n",
      " g2D)                                                            \n",
      "                                                                 \n",
      " conv2d_14 (Conv2D)          (None, 92, 124, 3)        12        \n",
      "                                                                 \n",
      " max_pooling2d_14 (MaxPoolin  (None, 46, 62, 3)        0         \n",
      " g2D)                                                            \n",
      "                                                                 \n",
      " flatten_4 (Flatten)         (None, 8556)              0         \n",
      "                                                                 \n",
      " dense_8 (Dense)             (None, 128)               1095296   \n",
      "                                                                 \n",
      " dense_9 (Dense)             (None, 10)                1290      \n",
      "                                                                 \n",
      "=================================================================\n",
      "Total params: 1,096,622\n",
      "Trainable params: 1,096,622\n",
      "Non-trainable params: 0\n",
      "_________________________________________________________________\n"
     ]
    }
   ],
   "source": [
    "EPOCHS = 20\n",
    "model.fit(\n",
    "  train,\n",
    "  epochs=EPOCHS \n",
    ")\n",
    "model.summary()"
   ]
  },
  {
   "cell_type": "code",
   "execution_count": 32,
   "id": "d6b50a89",
   "metadata": {},
   "outputs": [
    {
     "name": "stdout",
     "output_type": "stream",
     "text": [
      "20/20 [==============================] - 1s 42ms/step - loss: 1.9501 - accuracy: 0.3467\n"
     ]
    }
   ],
   "source": [
    "results = model.evaluate(val, batch_size=128)"
   ]
  },
  {
   "cell_type": "code",
   "execution_count": 12,
   "id": "4ce9e78c",
   "metadata": {},
   "outputs": [
    {
     "data": {
      "text/plain": [
       "[2.2621214389801025, 0.5326633453369141]"
      ]
     },
     "execution_count": 12,
     "metadata": {},
     "output_type": "execute_result"
    }
   ],
   "source": [
    "results"
   ]
  }
 ],
 "metadata": {
  "kernelspec": {
   "display_name": "Python 3 (ipykernel)",
   "language": "python",
   "name": "python3"
  },
  "language_info": {
   "codemirror_mode": {
    "name": "ipython",
    "version": 3
   },
   "file_extension": ".py",
   "mimetype": "text/x-python",
   "name": "python",
   "nbconvert_exporter": "python",
   "pygments_lexer": "ipython3",
   "version": "3.9.13"
  }
 },
 "nbformat": 4,
 "nbformat_minor": 5
}
